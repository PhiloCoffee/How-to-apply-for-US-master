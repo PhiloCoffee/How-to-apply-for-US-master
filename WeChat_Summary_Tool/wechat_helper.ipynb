{
 "cells": [
  {
   "cell_type": "markdown",
   "metadata": {},
   "source": [
    "# 微信聊天记录 管理助手\n",
    "- Jie Wang\n",
    "- Version 1.0.1\n",
    "- August. 2, 2024\n",
    "\n",
    "这个小工具是我用于平常辅助我整理微信聊天记录，并复制粘贴给GPT辅助的。比方说，我和学长学姐、申请顾问，还有朋友等沟通，获取了很多的宝贵建议和信息。那么我希望在电脑上复制粘贴保存消息。可是原生的消息记录含有大量无效内容，因此我设计了一个dict储存各个账号的信息，方便后续浏览和复盘。\n"
   ]
  },
  {
   "cell_type": "code",
   "execution_count": 5,
   "metadata": {},
   "outputs": [
    {
     "data": {
      "text/plain": [
       "'chat_summary.md'"
      ]
     },
     "execution_count": 5,
     "metadata": {},
     "output_type": "execute_result"
    }
   ],
   "source": [
    "from datetime import datetime\n",
    "import re\n",
    "\n",
    "def summarize_chat(chat_file_path, output_file_path):\n",
    "    with open(chat_file_path, 'r', encoding='utf-8') as file:\n",
    "        chat_content = file.readlines()\n",
    "    \n",
    "    # chat_content.split('---')\n",
    "\n",
    "    chat_summary = {}\n",
    "    current_speaker = \"\"\n",
    "    pattern = re.compile(r'^([^:]+):\\s*(.*)$')\n",
    "    # 添加一个用于过滤的正则表达式\n",
    "    filter_pattern = re.compile(r'\\[视频\\]|\\[图片\\]|\\[动画表情\\]|\\[语音聊天\\]|\\?')\n",
    "    \n",
    "    for line in chat_content:\n",
    "        line = filter_pattern.sub('', line)  # 应用过滤\n",
    "        match = pattern.match(line)\n",
    "        if match:\n",
    "            speaker, message = match.groups()\n",
    "            if speaker != current_speaker:\n",
    "                current_speaker = speaker\n",
    "                if current_speaker not in chat_summary:\n",
    "                    chat_summary[current_speaker] = []\n",
    "            chat_summary[current_speaker].append(message.strip())\n",
    "        elif current_speaker:\n",
    "            # 这里也应用过滤，以确保清除额外的内容\n",
    "            chat_summary[current_speaker][-1] += \" \" + filter_pattern.sub('', line).strip()\n",
    "    \n",
    "    with open(output_file_path, 'a', encoding='utf-8') as file:\n",
    "        file.write(f\"# 聊天记录 Day {datetime.now().strftime('%m-%d-%Y')}\\n\")\n",
    "        for speaker, messages in chat_summary.items():\n",
    "            file.write(f\"### {speaker}：\\n\")\n",
    "            file.write('\\n'.join(messages) + '\\n\\n')\n",
    "\n",
    "# 调用函数处理示例聊天记录，并将总结保存到新的Markdown文件中\n",
    "chat_file_path = 'chat_input.md'\n",
    "output_file_path = 'chat_summary.md'\n",
    "\n",
    "# 运行函数\n",
    "summarize_chat(chat_file_path, output_file_path)\n",
    "\n",
    "# 返回输出文件的路径，以供下载\n",
    "output_file_path\n"
   ]
  },
  {
   "cell_type": "code",
   "execution_count": null,
   "metadata": {},
   "outputs": [],
   "source": []
  }
 ],
 "metadata": {
  "kernelspec": {
   "display_name": "base",
   "language": "python",
   "name": "python3"
  },
  "language_info": {
   "codemirror_mode": {
    "name": "ipython",
    "version": 3
   },
   "file_extension": ".py",
   "mimetype": "text/x-python",
   "name": "python",
   "nbconvert_exporter": "python",
   "pygments_lexer": "ipython3",
   "version": "3.12.4"
  }
 },
 "nbformat": 4,
 "nbformat_minor": 2
}
